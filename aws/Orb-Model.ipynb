{
 "cells": [
  {
   "cell_type": "markdown",
   "metadata": {},
   "source": [
    "# Deploy Orb Model Package from AWS Marketplace \n"
   ]
  },
  {
   "attachments": {},
   "cell_type": "markdown",
   "metadata": {},
   "source": [
    "---\n",
    "\n",
    "This notebook's CI test result for us-west-2 is as follows. CI test results in other regions can be found at the end of the notebook. \n",
    "\n",
    "![This us-west-2 badge failed to load. Check your device's internet connectivity, otherwise the service is currently unavailable](https://prod.us-west-2.tcx-beacon.docs.aws.dev/sagemaker-nb/us-west-2/aws_marketplace|curating_aws_marketplace_listing_and_sample_notebook|ModelPackage|Sample_Notebook_Template|title_of_your_product-Model.ipynb)\n",
    "\n",
    "---"
   ]
  },
  {
   "cell_type": "markdown",
   "metadata": {},
   "source": [
    "\n",
    "\n",
    "Orb and the description: Orb is a universal interatomic potential for atomistic modelling of materials. Orb models are 3-6 times faster than existing universal potentials, stable under simulation for a range of out of distribution materials and, upon release, represented a 31% reduction in error over other methods on the Matbench Discovery benchmark.\n",
    "\n",
    "This sample notebook shows you how to deploy [Orb](https://aws.amazon.com/marketplace/pp/prodview-ysg3nhoa7sewu) using Amazon SageMaker.\n",
    "\n",
    "> **Note**: This is a reference notebook and it cannot run unless you make changes suggested in the notebook.\n",
    "\n",
    "## Pre-requisites:\n",
    "1. **Note**: This notebook contains elements which render correctly in Jupyter interface. Open this notebook from an Amazon SageMaker Notebook Instance or Amazon SageMaker Studio.\n",
    "1. Ensure that IAM role used has **AmazonSageMakerFullAccess**\n",
    "1. To deploy this ML model successfully, ensure that:\n",
    "    1. Either your IAM role has these three permissions and you have authority to make AWS Marketplace subscriptions in the AWS account used: \n",
    "        1. **aws-marketplace:ViewSubscriptions**\n",
    "        1. **aws-marketplace:Unsubscribe**\n",
    "        1. **aws-marketplace:Subscribe**  \n",
    "    2. or your AWS account has a subscription to [Orb](https://aws.amazon.com/marketplace/pp/prodview-ysg3nhoa7sewu). If so, skip step: [Subscribe to the model package](#1.-Subscribe-to-the-model-package)\n",
    "\n",
    "## Contents:\n",
    "1. [Subscribe to the model package](#1.-Subscribe-to-the-model-package)\n",
    "2. [Create an endpoint and perform real-time inference](#2.-Create-an-endpoint-and-perform-real-time-inference)\n",
    "   1. [Create an endpoint](#A.-Create-an-endpoint)\n",
    "   2. [Create input payload](#B.-Create-input-payload)\n",
    "   3. [Perform real-time inference](#C.-Perform-real-time-inference)\n",
    "   4. [Visualize output](#D.-Visualize-output)\n",
    "   5. [Delete the endpoint](#E.-Delete-the-endpoint)\n",
    "3. [Perform batch inference](#3.-Perform-batch-inference) \n",
    "4. [Clean-up](#4.-Clean-up)\n",
    "    1. [Delete the model](#A.-Delete-the-model)\n",
    "    2. [Unsubscribe to the listing (optional)](#B.-Unsubscribe-to-the-listing-(optional))\n",
    "    \n",
    "\n",
    "## Usage instructions\n",
    "You can run this notebook one cell at a time (By using Shift+Enter for running a cell)."
   ]
  },
  {
   "cell_type": "markdown",
   "metadata": {},
   "source": [
    "## 1. Subscribe to the model package"
   ]
  },
  {
   "cell_type": "markdown",
   "metadata": {},
   "source": [
    "To subscribe to the model package:\n",
    "1. Open the model package listing page [Orb](https://aws.amazon.com/marketplace/pp/prodview-ysg3nhoa7sewu)\n",
    "1. On the AWS Marketplace listing, click on the **Continue to subscribe** button.\n",
    "1. On the **Subscribe to this software** page, review and click on **\"Accept Offer\"** if you and your organization agrees with EULA, pricing, and support terms. \n",
    "1. Once you click on **Continue to configuration button** and then choose a **region**, you will see a **Product Arn** displayed. This is the model package ARN that you need to specify while creating a deployable model using Boto3. Copy the ARN corresponding to your region and specify the same in the following cell."
   ]
  },
  {
   "cell_type": "code",
   "execution_count": null,
   "metadata": {},
   "outputs": [],
   "source": [
    "model_package_arn = \"arn:aws:sagemaker:us-east-1:865070037744:model-package/orbmodelpackage-3fcf0a9dd0d838a69043e94193f8bff2\""
   ]
  },
  {
   "cell_type": "code",
   "execution_count": null,
   "metadata": {},
   "outputs": [],
   "source": [
    "from sagemaker import ModelPackage\n",
    "import sagemaker as sage\n",
    "from sagemaker import ModelPackage, get_execution_role\n",
    "import boto3\n",
    "import json\n",
    "import requests\n",
    "from botocore.auth import SigV4Auth\n",
    "from botocore.awsrequest import AWSRequest\n",
    "from botocore.exceptions import ClientError"
   ]
  },
  {
   "cell_type": "code",
   "execution_count": null,
   "metadata": {},
   "outputs": [],
   "source": [
    "def create_or_get_sagemaker_role(role_name: str):\n",
    "    iam_client = boto3.client('iam')\n",
    "    \n",
    "    # This is the trust policy allowing SageMaker to assume the role\n",
    "    assume_role_policy_document = {\n",
    "        \"Version\": \"2012-10-17\",\n",
    "        \"Statement\": [\n",
    "            {\n",
    "                \"Effect\": \"Allow\",\n",
    "                \"Principal\": {\n",
    "                    \"Service\": \"sagemaker.amazonaws.com\"\n",
    "                },\n",
    "                \"Action\": \"sts:AssumeRole\"\n",
    "            }\n",
    "        ]\n",
    "    }\n",
    "\n",
    "    try:\n",
    "        # Check if the role already exists\n",
    "        response = iam_client.get_role(RoleName=role_name)\n",
    "        print(f\"Role '{role_name}' already exists. No action needed.\")\n",
    "        return response['Role']['Arn']\n",
    "    except iam_client.exceptions.NoSuchEntityException:\n",
    "        # The role does not exist, so create it\n",
    "        print(f\"Role '{role_name}' not found. Creating...\")\n",
    "        \n",
    "        response = iam_client.create_role(\n",
    "            RoleName=role_name,\n",
    "            AssumeRolePolicyDocument=json.dumps(assume_role_policy_document),\n",
    "            Description=\"Role for SageMaker to create/modify resources\",\n",
    "        )\n",
    "        \n",
    "        # Attach the AmazonSageMakerFullAccess policy\n",
    "        iam_client.attach_role_policy(\n",
    "            RoleName=role_name,\n",
    "            PolicyArn=\"arn:aws:iam::aws:policy/AmazonSageMakerFullAccess\"\n",
    "        )\n",
    "        \n",
    "        print(f\"Role '{role_name}' has been created and policy attached.\")\n",
    "        return response['Role']['Arn']\n",
    "    except ClientError as e:\n",
    "        print(f\"Unexpected error: {e}\")\n",
    "        raise"
   ]
  },
  {
   "cell_type": "code",
   "execution_count": null,
   "metadata": {},
   "outputs": [],
   "source": [
    "region = 'us-east-1'  # Specify your desired region here\n",
    "boto3.setup_default_session(region_name=region)\n",
    "# Pass the boto3 session into the SageMaker Session.\n",
    "sagemaker_session = sage.Session()\n",
    "\n",
    "# Use this if running in Amazon SageMaker Notebook Instance or on an EC2 instance\n",
    "# Otherwise, create a role with the necessary permissions and pass it into the SageMaker Session manually.\n",
    "try:\n",
    "    role = get_execution_role(sagemaker_session)\n",
    "    print(f\"Execution role found: {role}\")\n",
    "except Exception as e:\n",
    "    print(f\"Could not retrieve execution role from SageMaker session. Reason: {e}\")\n",
    "    # Fallback: either use a known role or create one with boto3\n",
    "    role = create_or_get_sagemaker_role(\"orb-model-sagemaker-role\")\n",
    "\n",
    "runtime = boto3.client(\"runtime.sagemaker\")\n"
   ]
  },
  {
   "cell_type": "markdown",
   "metadata": {},
   "source": [
    "## 2. Create an endpoint and perform real-time inference"
   ]
  },
  {
   "cell_type": "markdown",
   "metadata": {},
   "source": [
    "If you want to understand how real-time inference with Amazon SageMaker works, see [Documentation](https://docs.aws.amazon.com/sagemaker/latest/dg/how-it-works-hosting.html)."
   ]
  },
  {
   "cell_type": "code",
   "execution_count": 6,
   "metadata": {},
   "outputs": [],
   "source": [
    "model_name = \"Orb\"\n",
    "content_type = \"application/octet-stream\"\n",
    "real_time_inference_instance_type = \"ml.p3.2xlarge\""
   ]
  },
  {
   "cell_type": "markdown",
   "metadata": {},
   "source": [
    "### A. Create an endpoint"
   ]
  },
  {
   "cell_type": "code",
   "execution_count": null,
   "metadata": {},
   "outputs": [],
   "source": [
    "# create a deployable model from the model package.\n",
    "model = ModelPackage(\n",
    "    role=role, model_package_arn=model_package_arn, sagemaker_session=sagemaker_session, \n",
    ")\n",
    "# Deploy the model\n",
    "predictor = model.deploy(1, real_time_inference_instance_type, endpoint_name=model_name)"
   ]
  },
  {
   "cell_type": "markdown",
   "metadata": {},
   "source": [
    "Once endpoint has been created, you would be able to perform real-time inference."
   ]
  },
  {
   "cell_type": "markdown",
   "metadata": {},
   "source": [
    "### B. Create input payload"
   ]
  },
  {
   "cell_type": "markdown",
   "metadata": {},
   "source": [
    "Use Example Cif"
   ]
  },
  {
   "cell_type": "code",
   "execution_count": 8,
   "metadata": {},
   "outputs": [],
   "source": [
    "file_name = \"examples/4A.cif\"\n",
    "output_file_name = \"output.json\""
   ]
  },
  {
   "cell_type": "markdown",
   "metadata": {},
   "source": [
    "### C. Perform real-time inference"
   ]
  },
  {
   "cell_type": "markdown",
   "metadata": {},
   "source": [
    "In order to invoke the endpoint, we use a signed request, using the requests library and AWS sigv4 authentication.\n",
    "This uses your AWS credenetials to authenticate to the Sagemaker endpoint used in the request."
   ]
  },
  {
   "cell_type": "code",
   "execution_count": null,
   "metadata": {},
   "outputs": [],
   "source": [
    "def sigv4_request(\n",
    "  url,\n",
    "  method='GET',\n",
    "  body=None,\n",
    "  params=None,\n",
    "  headers=None,\n",
    "  service='sagemaker',\n",
    "  region=sagemaker_session.boto_region_name,\n",
    "  credentials=boto3.Session().get_credentials().get_frozen_credentials()\n",
    "):\n",
    "  \"\"\"Sends an HTTP request signed with SigV4\n",
    "  Args:\n",
    "    url: The request URL (e.g. 'https://www.example.com').\n",
    "    method: The request method (e.g. 'GET', 'POST', 'PUT', 'DELETE'). Defaults to 'GET'.\n",
    "    body: The request body (e.g. json.dumps({ 'foo': 'bar' })). Defaults to None.\n",
    "    params: The request query params (e.g. { 'foo': 'bar' }). Defaults to None.\n",
    "    headers: The request headers (e.g. { 'content-type': 'application/json' }). Defaults to None.\n",
    "    service: The AWS service name. Defaults to 'execute-api'.\n",
    "    region: The AWS region id. Defaults to the env var 'AWS_REGION'.\n",
    "    credentials: The AWS credentials. Defaults to the current boto3 session's credentials.\n",
    "  Returns:\n",
    "     The HTTP response\n",
    "  \"\"\"\n",
    "  # sign request\n",
    "  req = AWSRequest(\n",
    "    method=method,\n",
    "    url=url,\n",
    "    data=body,\n",
    "    params=params,\n",
    "    headers=headers\n",
    "  )\n",
    "\n",
    "  SigV4Auth(credentials, service, region).add_auth(req)\n",
    "  req = req.prepare()\n",
    "\n",
    "  # send request\n",
    "  return requests.request(\n",
    "    method=req.method,\n",
    "    url=req.url,\n",
    "    headers=req.headers,\n",
    "    data=req.body\n",
    "  )"
   ]
  },
  {
   "cell_type": "code",
   "execution_count": 14,
   "metadata": {},
   "outputs": [],
   "source": [
    "\n",
    "url=f\"https://runtime.sagemaker.{region}.amazonaws.com/endpoints/{model_name}/invocations\" \n",
    "\n",
    "with open(file_name, 'rb') as file:\n",
    "  # Read the file as binary\n",
    "  body = file.read()\n",
    "# Create the signed request with the file body\n",
    "  response = sigv4_request(\n",
    "    url,\n",
    "    method='POST',\n",
    "    body=body,\n",
    "    headers={'Content-Type': content_type},\n",
    "  )\n",
    "with open(output_file_name, 'w') as file:\n",
    "  json.dump(response.json(), file)\n",
    "\n"
   ]
  },
  {
   "cell_type": "markdown",
   "metadata": {},
   "source": [
    "### E. Delete the endpoint"
   ]
  },
  {
   "cell_type": "markdown",
   "metadata": {},
   "source": [
    "Now that you have successfully performed a real-time inference, you do not need the endpoint any more. You can terminate the endpoint to avoid being charged."
   ]
  },
  {
   "cell_type": "code",
   "execution_count": null,
   "metadata": {},
   "outputs": [],
   "source": [
    "model.sagemaker_session.delete_endpoint(\"Orb\")\n",
    "model.sagemaker_session.delete_endpoint_config(\"Orb\")"
   ]
  },
  {
   "cell_type": "markdown",
   "metadata": {},
   "source": [
    "## 4. Clean-up"
   ]
  },
  {
   "cell_type": "markdown",
   "metadata": {},
   "source": [
    "### A. Delete the model"
   ]
  },
  {
   "cell_type": "code",
   "execution_count": null,
   "metadata": {},
   "outputs": [],
   "source": [
    "model.delete_model()"
   ]
  },
  {
   "cell_type": "markdown",
   "metadata": {},
   "source": [
    "### B. Unsubscribe to the listing (optional)"
   ]
  },
  {
   "cell_type": "markdown",
   "metadata": {},
   "source": [
    "If you would like to unsubscribe to the model package, follow these steps. Before you cancel the subscription, ensure that you do not have any [deployable model](https://console.aws.amazon.com/sagemaker/home#/models) created from the model package or using the algorithm. Note - You can find this information by looking at the container name associated with the model. \n",
    "\n",
    "**Steps to unsubscribe to product from AWS Marketplace**:\n",
    "1. Navigate to __Machine Learning__ tab on [__Your Software subscriptions page__](https://aws.amazon.com/marketplace/ai/library?productType=ml&ref_=mlmp_gitdemo_indust)\n",
    "2. Locate the listing that you want to cancel the subscription for, and then choose __Cancel Subscription__  to cancel the subscription.\n",
    "\n"
   ]
  }
 ],
 "metadata": {
  "instance_type": "ml.t3.medium",
  "kernelspec": {
   "display_name": "core",
   "language": "python",
   "name": "python3"
  },
  "language_info": {
   "codemirror_mode": {
    "name": "ipython",
    "version": 3
   },
   "file_extension": ".py",
   "mimetype": "text/x-python",
   "name": "python",
   "nbconvert_exporter": "python",
   "pygments_lexer": "ipython3",
   "version": "3.11.5"
  }
 },
 "nbformat": 4,
 "nbformat_minor": 4
}
